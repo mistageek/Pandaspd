{
 "cells": [
  {
   "cell_type": "markdown",
   "metadata": {},
   "source": [
    " #### Necessary Libraries"
   ]
  },
  {
   "cell_type": "code",
   "execution_count": 1,
   "metadata": {},
   "outputs": [],
   "source": [
    "import pandas as pd\n",
    "import os"
   ]
  },
  {
   "cell_type": "markdown",
   "metadata": {},
   "source": [
    "#### Merging 12 Months of Data into One"
   ]
  },
  {
   "cell_type": "code",
   "execution_count": 2,
   "metadata": {},
   "outputs": [],
   "source": [
    "#Read the files names\n",
    "\n",
    "path = './data'\n",
    "for file in os.listdir(path):\n",
    "    if not file.startswith('.'):\n",
    "        files = os.listdir(path) \n",
    "        \n",
    "\n",
    "#Merge the file into one\n",
    "sales_data = pd.DataFrame()\n",
    "\n",
    "for file in files:\n",
    "    file_data = pd.read_csv(path + '/'+ file, sep =',')\n",
    "    sales_data = pd.concat([sales_data, file_data])\n",
    "    \n",
    "sales_data.to_csv(path+'/sales_data.csv', index=False)"
   ]
  },
  {
   "cell_type": "markdown",
   "metadata": {},
   "source": [
    "#### Read the combined data to sdata Data Frame"
   ]
  },
  {
   "cell_type": "code",
   "execution_count": 3,
   "metadata": {},
   "outputs": [
    {
     "data": {
      "text/html": [
       "<div>\n",
       "<style scoped>\n",
       "    .dataframe tbody tr th:only-of-type {\n",
       "        vertical-align: middle;\n",
       "    }\n",
       "\n",
       "    .dataframe tbody tr th {\n",
       "        vertical-align: top;\n",
       "    }\n",
       "\n",
       "    .dataframe thead th {\n",
       "        text-align: right;\n",
       "    }\n",
       "</style>\n",
       "<table border=\"1\" class=\"dataframe\">\n",
       "  <thead>\n",
       "    <tr style=\"text-align: right;\">\n",
       "      <th></th>\n",
       "      <th>Order ID</th>\n",
       "      <th>Product</th>\n",
       "      <th>Quantity Ordered</th>\n",
       "      <th>Price Each</th>\n",
       "      <th>Order Date</th>\n",
       "      <th>Purchase Address</th>\n",
       "    </tr>\n",
       "  </thead>\n",
       "  <tbody>\n",
       "    <tr>\n",
       "      <th>0</th>\n",
       "      <td>259358</td>\n",
       "      <td>34in Ultrawide Monitor</td>\n",
       "      <td>1</td>\n",
       "      <td>379.99</td>\n",
       "      <td>10/28/19 10:56</td>\n",
       "      <td>609 Cherry St, Dallas, TX 75001</td>\n",
       "    </tr>\n",
       "    <tr>\n",
       "      <th>1</th>\n",
       "      <td>259359</td>\n",
       "      <td>27in 4K Gaming Monitor</td>\n",
       "      <td>1</td>\n",
       "      <td>389.99</td>\n",
       "      <td>10/28/19 17:26</td>\n",
       "      <td>225 5th St, Los Angeles, CA 90001</td>\n",
       "    </tr>\n",
       "    <tr>\n",
       "      <th>2</th>\n",
       "      <td>259360</td>\n",
       "      <td>AAA Batteries (4-pack)</td>\n",
       "      <td>2</td>\n",
       "      <td>2.99</td>\n",
       "      <td>10/24/19 17:20</td>\n",
       "      <td>967 12th St, New York City, NY 10001</td>\n",
       "    </tr>\n",
       "    <tr>\n",
       "      <th>3</th>\n",
       "      <td>259361</td>\n",
       "      <td>27in FHD Monitor</td>\n",
       "      <td>1</td>\n",
       "      <td>149.99</td>\n",
       "      <td>10/14/19 22:26</td>\n",
       "      <td>628 Jefferson St, New York City, NY 10001</td>\n",
       "    </tr>\n",
       "    <tr>\n",
       "      <th>4</th>\n",
       "      <td>259362</td>\n",
       "      <td>Wired Headphones</td>\n",
       "      <td>1</td>\n",
       "      <td>11.99</td>\n",
       "      <td>10/07/19 16:10</td>\n",
       "      <td>534 14th St, Los Angeles, CA 90001</td>\n",
       "    </tr>\n",
       "  </tbody>\n",
       "</table>\n",
       "</div>"
      ],
      "text/plain": [
       "  Order ID                 Product Quantity Ordered Price Each  \\\n",
       "0   259358  34in Ultrawide Monitor                1     379.99   \n",
       "1   259359  27in 4K Gaming Monitor                1     389.99   \n",
       "2   259360  AAA Batteries (4-pack)                2       2.99   \n",
       "3   259361        27in FHD Monitor                1     149.99   \n",
       "4   259362        Wired Headphones                1      11.99   \n",
       "\n",
       "       Order Date                           Purchase Address  \n",
       "0  10/28/19 10:56            609 Cherry St, Dallas, TX 75001  \n",
       "1  10/28/19 17:26          225 5th St, Los Angeles, CA 90001  \n",
       "2  10/24/19 17:20       967 12th St, New York City, NY 10001  \n",
       "3  10/14/19 22:26  628 Jefferson St, New York City, NY 10001  \n",
       "4  10/07/19 16:10         534 14th St, Los Angeles, CA 90001  "
      ]
     },
     "execution_count": 3,
     "metadata": {},
     "output_type": "execute_result"
    }
   ],
   "source": [
    "sdata = pd.read_csv(path+'/sales_data.csv', sep = ',')\n",
    "sdata.head()"
   ]
  },
  {
   "cell_type": "markdown",
   "metadata": {},
   "source": [
    "#### Clean the Data"
   ]
  },
  {
   "cell_type": "markdown",
   "metadata": {},
   "source": [
    "##### Task 1: Drop Rows of NAN"
   ]
  },
  {
   "cell_type": "code",
   "execution_count": 5,
   "metadata": {},
   "outputs": [
    {
     "data": {
      "text/plain": [
       "(0, 6)"
      ]
     },
     "metadata": {},
     "output_type": "display_data"
    }
   ],
   "source": [
    "# Finding the NAN rows\n",
    "Nan_rows = sdata[sdata.isna().any(axis = 1 )]\n",
    "display(Nan_rows.shape)\n",
    "\n",
    "#Dropping the NAN rows\n",
    "sdata.dropna(how='all', axis=0, inplace = True)"
   ]
  },
  {
   "cell_type": "markdown",
   "metadata": {},
   "source": [
    "##### Task 2: Find 'Or' and Delete it"
   ]
  },
  {
   "cell_type": "code",
   "execution_count": 6,
   "metadata": {},
   "outputs": [],
   "source": [
    "or_rows = sdata[sdata['Order Date'].str[0:2] == 'Or']\n",
    "\n",
    "sdata = sdata[sdata['Order Date'].str[0:2] != 'Or']"
   ]
  },
  {
   "cell_type": "markdown",
   "metadata": {},
   "source": [
    "##### Cast Columns to Correct Type"
   ]
  },
  {
   "cell_type": "code",
   "execution_count": 7,
   "metadata": {},
   "outputs": [],
   "source": [
    "sdata['Quantity Ordered'] = pd.to_numeric(sdata['Quantity Ordered'])\n",
    "sdata['Price Each'] = pd.to_numeric(sdata['Price Each'])"
   ]
  },
  {
   "cell_type": "markdown",
   "metadata": {},
   "source": [
    " #### Add Additional Necessary Columns"
   ]
  },
  {
   "cell_type": "markdown",
   "metadata": {},
   "source": [
    "###### Task 1: Add Month Column"
   ]
  },
  {
   "cell_type": "code",
   "execution_count": 8,
   "metadata": {},
   "outputs": [
    {
     "data": {
      "text/html": [
       "<div>\n",
       "<style scoped>\n",
       "    .dataframe tbody tr th:only-of-type {\n",
       "        vertical-align: middle;\n",
       "    }\n",
       "\n",
       "    .dataframe tbody tr th {\n",
       "        vertical-align: top;\n",
       "    }\n",
       "\n",
       "    .dataframe thead th {\n",
       "        text-align: right;\n",
       "    }\n",
       "</style>\n",
       "<table border=\"1\" class=\"dataframe\">\n",
       "  <thead>\n",
       "    <tr style=\"text-align: right;\">\n",
       "      <th></th>\n",
       "      <th>Order ID</th>\n",
       "      <th>Product</th>\n",
       "      <th>Quantity Ordered</th>\n",
       "      <th>Price Each</th>\n",
       "      <th>Order Date</th>\n",
       "      <th>Purchase Address</th>\n",
       "      <th>Month</th>\n",
       "    </tr>\n",
       "  </thead>\n",
       "  <tbody>\n",
       "    <tr>\n",
       "      <th>0</th>\n",
       "      <td>259358</td>\n",
       "      <td>34in Ultrawide Monitor</td>\n",
       "      <td>1</td>\n",
       "      <td>379.99</td>\n",
       "      <td>10/28/19 10:56</td>\n",
       "      <td>609 Cherry St, Dallas, TX 75001</td>\n",
       "      <td>10</td>\n",
       "    </tr>\n",
       "    <tr>\n",
       "      <th>1</th>\n",
       "      <td>259359</td>\n",
       "      <td>27in 4K Gaming Monitor</td>\n",
       "      <td>1</td>\n",
       "      <td>389.99</td>\n",
       "      <td>10/28/19 17:26</td>\n",
       "      <td>225 5th St, Los Angeles, CA 90001</td>\n",
       "      <td>10</td>\n",
       "    </tr>\n",
       "    <tr>\n",
       "      <th>2</th>\n",
       "      <td>259360</td>\n",
       "      <td>AAA Batteries (4-pack)</td>\n",
       "      <td>2</td>\n",
       "      <td>2.99</td>\n",
       "      <td>10/24/19 17:20</td>\n",
       "      <td>967 12th St, New York City, NY 10001</td>\n",
       "      <td>10</td>\n",
       "    </tr>\n",
       "    <tr>\n",
       "      <th>3</th>\n",
       "      <td>259361</td>\n",
       "      <td>27in FHD Monitor</td>\n",
       "      <td>1</td>\n",
       "      <td>149.99</td>\n",
       "      <td>10/14/19 22:26</td>\n",
       "      <td>628 Jefferson St, New York City, NY 10001</td>\n",
       "      <td>10</td>\n",
       "    </tr>\n",
       "    <tr>\n",
       "      <th>4</th>\n",
       "      <td>259362</td>\n",
       "      <td>Wired Headphones</td>\n",
       "      <td>1</td>\n",
       "      <td>11.99</td>\n",
       "      <td>10/07/19 16:10</td>\n",
       "      <td>534 14th St, Los Angeles, CA 90001</td>\n",
       "      <td>10</td>\n",
       "    </tr>\n",
       "  </tbody>\n",
       "</table>\n",
       "</div>"
      ],
      "text/plain": [
       "  Order ID                 Product  Quantity Ordered  Price Each  \\\n",
       "0   259358  34in Ultrawide Monitor                 1      379.99   \n",
       "1   259359  27in 4K Gaming Monitor                 1      389.99   \n",
       "2   259360  AAA Batteries (4-pack)                 2        2.99   \n",
       "3   259361        27in FHD Monitor                 1      149.99   \n",
       "4   259362        Wired Headphones                 1       11.99   \n",
       "\n",
       "       Order Date                           Purchase Address  Month  \n",
       "0  10/28/19 10:56            609 Cherry St, Dallas, TX 75001     10  \n",
       "1  10/28/19 17:26          225 5th St, Los Angeles, CA 90001     10  \n",
       "2  10/24/19 17:20       967 12th St, New York City, NY 10001     10  \n",
       "3  10/14/19 22:26  628 Jefferson St, New York City, NY 10001     10  \n",
       "4  10/07/19 16:10         534 14th St, Los Angeles, CA 90001     10  "
      ]
     },
     "execution_count": 8,
     "metadata": {},
     "output_type": "execute_result"
    }
   ],
   "source": [
    "sdata['Month'] = sdata['Order Date'].str[0:2]\n",
    "sdata['Month'] = sdata['Month'].astype(int)\n",
    "\n",
    "sdata.head()"
   ]
  },
  {
   "cell_type": "markdown",
   "metadata": {},
   "source": [
    "###### Alternative"
   ]
  },
  {
   "cell_type": "code",
   "execution_count": 9,
   "metadata": {},
   "outputs": [
    {
     "data": {
      "text/html": [
       "<div>\n",
       "<style scoped>\n",
       "    .dataframe tbody tr th:only-of-type {\n",
       "        vertical-align: middle;\n",
       "    }\n",
       "\n",
       "    .dataframe tbody tr th {\n",
       "        vertical-align: top;\n",
       "    }\n",
       "\n",
       "    .dataframe thead th {\n",
       "        text-align: right;\n",
       "    }\n",
       "</style>\n",
       "<table border=\"1\" class=\"dataframe\">\n",
       "  <thead>\n",
       "    <tr style=\"text-align: right;\">\n",
       "      <th></th>\n",
       "      <th>Order ID</th>\n",
       "      <th>Product</th>\n",
       "      <th>Quantity Ordered</th>\n",
       "      <th>Price Each</th>\n",
       "      <th>Order Date</th>\n",
       "      <th>Purchase Address</th>\n",
       "      <th>Month</th>\n",
       "      <th>Month 2</th>\n",
       "    </tr>\n",
       "  </thead>\n",
       "  <tbody>\n",
       "    <tr>\n",
       "      <th>0</th>\n",
       "      <td>259358</td>\n",
       "      <td>34in Ultrawide Monitor</td>\n",
       "      <td>1</td>\n",
       "      <td>379.99</td>\n",
       "      <td>10/28/19 10:56</td>\n",
       "      <td>609 Cherry St, Dallas, TX 75001</td>\n",
       "      <td>10</td>\n",
       "      <td>10</td>\n",
       "    </tr>\n",
       "    <tr>\n",
       "      <th>1</th>\n",
       "      <td>259359</td>\n",
       "      <td>27in 4K Gaming Monitor</td>\n",
       "      <td>1</td>\n",
       "      <td>389.99</td>\n",
       "      <td>10/28/19 17:26</td>\n",
       "      <td>225 5th St, Los Angeles, CA 90001</td>\n",
       "      <td>10</td>\n",
       "      <td>10</td>\n",
       "    </tr>\n",
       "    <tr>\n",
       "      <th>2</th>\n",
       "      <td>259360</td>\n",
       "      <td>AAA Batteries (4-pack)</td>\n",
       "      <td>2</td>\n",
       "      <td>2.99</td>\n",
       "      <td>10/24/19 17:20</td>\n",
       "      <td>967 12th St, New York City, NY 10001</td>\n",
       "      <td>10</td>\n",
       "      <td>10</td>\n",
       "    </tr>\n",
       "    <tr>\n",
       "      <th>3</th>\n",
       "      <td>259361</td>\n",
       "      <td>27in FHD Monitor</td>\n",
       "      <td>1</td>\n",
       "      <td>149.99</td>\n",
       "      <td>10/14/19 22:26</td>\n",
       "      <td>628 Jefferson St, New York City, NY 10001</td>\n",
       "      <td>10</td>\n",
       "      <td>10</td>\n",
       "    </tr>\n",
       "    <tr>\n",
       "      <th>4</th>\n",
       "      <td>259362</td>\n",
       "      <td>Wired Headphones</td>\n",
       "      <td>1</td>\n",
       "      <td>11.99</td>\n",
       "      <td>10/07/19 16:10</td>\n",
       "      <td>534 14th St, Los Angeles, CA 90001</td>\n",
       "      <td>10</td>\n",
       "      <td>10</td>\n",
       "    </tr>\n",
       "  </tbody>\n",
       "</table>\n",
       "</div>"
      ],
      "text/plain": [
       "  Order ID                 Product  Quantity Ordered  Price Each  \\\n",
       "0   259358  34in Ultrawide Monitor                 1      379.99   \n",
       "1   259359  27in 4K Gaming Monitor                 1      389.99   \n",
       "2   259360  AAA Batteries (4-pack)                 2        2.99   \n",
       "3   259361        27in FHD Monitor                 1      149.99   \n",
       "4   259362        Wired Headphones                 1       11.99   \n",
       "\n",
       "       Order Date                           Purchase Address  Month  Month 2  \n",
       "0  10/28/19 10:56            609 Cherry St, Dallas, TX 75001     10       10  \n",
       "1  10/28/19 17:26          225 5th St, Los Angeles, CA 90001     10       10  \n",
       "2  10/24/19 17:20       967 12th St, New York City, NY 10001     10       10  \n",
       "3  10/14/19 22:26  628 Jefferson St, New York City, NY 10001     10       10  \n",
       "4  10/07/19 16:10         534 14th St, Los Angeles, CA 90001     10       10  "
      ]
     },
     "execution_count": 9,
     "metadata": {},
     "output_type": "execute_result"
    }
   ],
   "source": [
    "sdata['Month 2'] = pd.to_datetime(sdata['Order Date']).dt.month\n",
    "sdata.head()"
   ]
  },
  {
   "cell_type": "markdown",
   "metadata": {},
   "source": [
    "###### Add a Sales Column"
   ]
  },
  {
   "cell_type": "code",
   "execution_count": 10,
   "metadata": {},
   "outputs": [],
   "source": [
    "sdata['Revenue'] = sdata['Quantity Ordered'].astype('int') * sdata['Price Each'].astype('float')"
   ]
  },
  {
   "cell_type": "markdown",
   "metadata": {},
   "source": [
    "###### Add a City Column"
   ]
  },
  {
   "cell_type": "code",
   "execution_count": 11,
   "metadata": {},
   "outputs": [],
   "source": [
    "def get_city(address):\n",
    "    return address.split(',')[1].strip(' ')\n",
    "\n",
    "def get_state(address):\n",
    "    return address.split(',')[2].split(' ')[1]\n",
    "\n",
    "sdata['City'] = sdata['Purchase Address'].apply(lambda x: f\"{get_city(x)} ({get_state(x)})\")"
   ]
  },
  {
   "cell_type": "markdown",
   "metadata": {},
   "source": [
    "##### Question 1: What was the best month for sales?How much was earned in that month?"
   ]
  },
  {
   "cell_type": "code",
   "execution_count": 12,
   "metadata": {},
   "outputs": [
    {
     "data": {
      "text/html": [
       "<div>\n",
       "<style scoped>\n",
       "    .dataframe tbody tr th:only-of-type {\n",
       "        vertical-align: middle;\n",
       "    }\n",
       "\n",
       "    .dataframe tbody tr th {\n",
       "        vertical-align: top;\n",
       "    }\n",
       "\n",
       "    .dataframe thead th {\n",
       "        text-align: right;\n",
       "    }\n",
       "</style>\n",
       "<table border=\"1\" class=\"dataframe\">\n",
       "  <thead>\n",
       "    <tr style=\"text-align: right;\">\n",
       "      <th></th>\n",
       "      <th>Month</th>\n",
       "      <th>Quantity Ordered</th>\n",
       "      <th>Price Each</th>\n",
       "      <th>Revenue</th>\n",
       "    </tr>\n",
       "  </thead>\n",
       "  <tbody>\n",
       "    <tr>\n",
       "      <th>11</th>\n",
       "      <td>12</td>\n",
       "      <td>112456</td>\n",
       "      <td>1.835366e+07</td>\n",
       "      <td>1.845377e+07</td>\n",
       "    </tr>\n",
       "    <tr>\n",
       "      <th>9</th>\n",
       "      <td>10</td>\n",
       "      <td>90812</td>\n",
       "      <td>1.486222e+07</td>\n",
       "      <td>1.494691e+07</td>\n",
       "    </tr>\n",
       "    <tr>\n",
       "      <th>3</th>\n",
       "      <td>4</td>\n",
       "      <td>82232</td>\n",
       "      <td>1.347068e+07</td>\n",
       "      <td>1.356268e+07</td>\n",
       "    </tr>\n",
       "    <tr>\n",
       "      <th>10</th>\n",
       "      <td>11</td>\n",
       "      <td>79192</td>\n",
       "      <td>1.272240e+07</td>\n",
       "      <td>1.279841e+07</td>\n",
       "    </tr>\n",
       "    <tr>\n",
       "      <th>4</th>\n",
       "      <td>5</td>\n",
       "      <td>74668</td>\n",
       "      <td>1.254050e+07</td>\n",
       "      <td>1.261043e+07</td>\n",
       "    </tr>\n",
       "    <tr>\n",
       "      <th>2</th>\n",
       "      <td>3</td>\n",
       "      <td>68020</td>\n",
       "      <td>1.116483e+07</td>\n",
       "      <td>1.122840e+07</td>\n",
       "    </tr>\n",
       "    <tr>\n",
       "      <th>6</th>\n",
       "      <td>7</td>\n",
       "      <td>64288</td>\n",
       "      <td>1.053016e+07</td>\n",
       "      <td>1.059110e+07</td>\n",
       "    </tr>\n",
       "    <tr>\n",
       "      <th>5</th>\n",
       "      <td>6</td>\n",
       "      <td>61012</td>\n",
       "      <td>1.024810e+07</td>\n",
       "      <td>1.031121e+07</td>\n",
       "    </tr>\n",
       "    <tr>\n",
       "      <th>7</th>\n",
       "      <td>8</td>\n",
       "      <td>53792</td>\n",
       "      <td>8.921382e+06</td>\n",
       "      <td>8.977872e+06</td>\n",
       "    </tr>\n",
       "    <tr>\n",
       "      <th>1</th>\n",
       "      <td>2</td>\n",
       "      <td>53796</td>\n",
       "      <td>8.755539e+06</td>\n",
       "      <td>8.808090e+06</td>\n",
       "    </tr>\n",
       "    <tr>\n",
       "      <th>8</th>\n",
       "      <td>9</td>\n",
       "      <td>52436</td>\n",
       "      <td>8.339968e+06</td>\n",
       "      <td>8.390241e+06</td>\n",
       "    </tr>\n",
       "    <tr>\n",
       "      <th>0</th>\n",
       "      <td>1</td>\n",
       "      <td>43612</td>\n",
       "      <td>7.247074e+06</td>\n",
       "      <td>7.289027e+06</td>\n",
       "    </tr>\n",
       "  </tbody>\n",
       "</table>\n",
       "</div>"
      ],
      "text/plain": [
       "    Month  Quantity Ordered    Price Each       Revenue\n",
       "11     12            112456  1.835366e+07  1.845377e+07\n",
       "9      10             90812  1.486222e+07  1.494691e+07\n",
       "3       4             82232  1.347068e+07  1.356268e+07\n",
       "10     11             79192  1.272240e+07  1.279841e+07\n",
       "4       5             74668  1.254050e+07  1.261043e+07\n",
       "2       3             68020  1.116483e+07  1.122840e+07\n",
       "6       7             64288  1.053016e+07  1.059110e+07\n",
       "5       6             61012  1.024810e+07  1.031121e+07\n",
       "7       8             53792  8.921382e+06  8.977872e+06\n",
       "1       2             53796  8.755539e+06  8.808090e+06\n",
       "8       9             52436  8.339968e+06  8.390241e+06\n",
       "0       1             43612  7.247074e+06  7.289027e+06"
      ]
     },
     "execution_count": 12,
     "metadata": {},
     "output_type": "execute_result"
    }
   ],
   "source": [
    "month_sales = sdata.groupby(['Month']).sum()\n",
    "month_sales.drop(['Month 2'], axis = 1, inplace=True)\n",
    "month_sales.reset_index(inplace=True)\n",
    "\n",
    "#Sorting Revenue from highest to lowest\n",
    "month_sales.sort_values(by=['Revenue'], axis=0, ascending=False)\n"
   ]
  },
  {
   "cell_type": "code",
   "execution_count": 13,
   "metadata": {},
   "outputs": [
    {
     "data": {
      "image/png": "[encoded data removed]",
      "text/plain": [
       "<Figure size 432x288 with 1 Axes>"
      ]
     },
     "metadata": {
      "needs_background": "light"
     },
     "output_type": "display_data"
    }
   ],
   "source": [
    "# Importing the pyplot namespace\n",
    "import matplotlib.pyplot as plt  \n",
    "\n",
    "plt.bar(month_sales['Month'], month_sales['Revenue'])\n",
    "\n",
    "plt.title('Monthly Sales')\n",
    "\n",
    "plt.xticks(month_sales['Month'])\n",
    "plt.xlabel('Month')\n",
    "\n",
    "plt.ylabel('Sales in USD ($)')\n",
    "\n",
    "# Removes Scientific notation\n",
    "plt.ticklabel_format(style='plain')\n",
    "\n",
    "plt.show()"
   ]
  },
  {
   "cell_type": "markdown",
   "metadata": {},
   "source": [
    "##### Question 2:  What city sold the most product?"
   ]
  },
  {
   "cell_type": "code",
   "execution_count": 14,
   "metadata": {},
   "outputs": [
    {
     "data": {
      "text/html": [
       "<div>\n",
       "<style scoped>\n",
       "    .dataframe tbody tr th:only-of-type {\n",
       "        vertical-align: middle;\n",
       "    }\n",
       "\n",
       "    .dataframe tbody tr th {\n",
       "        vertical-align: top;\n",
       "    }\n",
       "\n",
       "    .dataframe thead th {\n",
       "        text-align: right;\n",
       "    }\n",
       "</style>\n",
       "<table border=\"1\" class=\"dataframe\">\n",
       "  <thead>\n",
       "    <tr style=\"text-align: right;\">\n",
       "      <th></th>\n",
       "      <th>City</th>\n",
       "      <th>Quantity Ordered</th>\n",
       "      <th>Price Each</th>\n",
       "      <th>Month</th>\n",
       "      <th>Revenue</th>\n",
       "    </tr>\n",
       "  </thead>\n",
       "  <tbody>\n",
       "    <tr>\n",
       "      <th>8</th>\n",
       "      <td>San Francisco (CA)</td>\n",
       "      <td>200956</td>\n",
       "      <td>3.284585e+07</td>\n",
       "      <td>1262080</td>\n",
       "      <td>3.304882e+07</td>\n",
       "    </tr>\n",
       "    <tr>\n",
       "      <th>4</th>\n",
       "      <td>Los Angeles (CA)</td>\n",
       "      <td>133156</td>\n",
       "      <td>2.168574e+07</td>\n",
       "      <td>833300</td>\n",
       "      <td>2.181028e+07</td>\n",
       "    </tr>\n",
       "    <tr>\n",
       "      <th>5</th>\n",
       "      <td>New York City (NY)</td>\n",
       "      <td>111728</td>\n",
       "      <td>1.854148e+07</td>\n",
       "      <td>702964</td>\n",
       "      <td>1.865727e+07</td>\n",
       "    </tr>\n",
       "    <tr>\n",
       "      <th>2</th>\n",
       "      <td>Boston (MA)</td>\n",
       "      <td>90112</td>\n",
       "      <td>1.454964e+07</td>\n",
       "      <td>564448</td>\n",
       "      <td>1.464657e+07</td>\n",
       "    </tr>\n",
       "    <tr>\n",
       "      <th>0</th>\n",
       "      <td>Atlanta (GA)</td>\n",
       "      <td>66408</td>\n",
       "      <td>1.111963e+07</td>\n",
       "      <td>419176</td>\n",
       "      <td>1.118199e+07</td>\n",
       "    </tr>\n",
       "    <tr>\n",
       "      <th>3</th>\n",
       "      <td>Dallas (TX)</td>\n",
       "      <td>66920</td>\n",
       "      <td>1.101051e+07</td>\n",
       "      <td>418480</td>\n",
       "      <td>1.107190e+07</td>\n",
       "    </tr>\n",
       "    <tr>\n",
       "      <th>9</th>\n",
       "      <td>Seattle (WA)</td>\n",
       "      <td>66212</td>\n",
       "      <td>1.093318e+07</td>\n",
       "      <td>419764</td>\n",
       "      <td>1.099102e+07</td>\n",
       "    </tr>\n",
       "    <tr>\n",
       "      <th>7</th>\n",
       "      <td>Portland (OR)</td>\n",
       "      <td>45212</td>\n",
       "      <td>7.442233e+06</td>\n",
       "      <td>282484</td>\n",
       "      <td>7.482929e+06</td>\n",
       "    </tr>\n",
       "    <tr>\n",
       "      <th>1</th>\n",
       "      <td>Austin (TX)</td>\n",
       "      <td>44612</td>\n",
       "      <td>7.239494e+06</td>\n",
       "      <td>279316</td>\n",
       "      <td>7.278327e+06</td>\n",
       "    </tr>\n",
       "    <tr>\n",
       "      <th>6</th>\n",
       "      <td>Portland (ME)</td>\n",
       "      <td>11000</td>\n",
       "      <td>1.788757e+06</td>\n",
       "      <td>68576</td>\n",
       "      <td>1.799033e+06</td>\n",
       "    </tr>\n",
       "  </tbody>\n",
       "</table>\n",
       "</div>"
      ],
      "text/plain": [
       "                 City  Quantity Ordered    Price Each    Month       Revenue\n",
       "8  San Francisco (CA)            200956  3.284585e+07  1262080  3.304882e+07\n",
       "4    Los Angeles (CA)            133156  2.168574e+07   833300  2.181028e+07\n",
       "5  New York City (NY)            111728  1.854148e+07   702964  1.865727e+07\n",
       "2         Boston (MA)             90112  1.454964e+07   564448  1.464657e+07\n",
       "0        Atlanta (GA)             66408  1.111963e+07   419176  1.118199e+07\n",
       "3         Dallas (TX)             66920  1.101051e+07   418480  1.107190e+07\n",
       "9        Seattle (WA)             66212  1.093318e+07   419764  1.099102e+07\n",
       "7       Portland (OR)             45212  7.442233e+06   282484  7.482929e+06\n",
       "1         Austin (TX)             44612  7.239494e+06   279316  7.278327e+06\n",
       "6       Portland (ME)             11000  1.788757e+06    68576  1.799033e+06"
      ]
     },
     "metadata": {},
     "output_type": "display_data"
    }
   ],
   "source": [
    "city_sales = sdata.groupby(['City']).sum()\n",
    "\n",
    "city_sales.reset_index(inplace=True)\n",
    "city_sales.drop(['Month 2'], axis = 1, inplace=True)\n",
    "\n",
    "display(city_sales.sort_values(by=['Revenue'], ascending= False))"
   ]
  },
  {
   "cell_type": "code",
   "execution_count": 15,
   "metadata": {},
   "outputs": [
    {
     "data": {
      "image/png": "[encoded data removed]",
      "text/plain": [
       "<Figure size 432x288 with 1 Axes>"
      ]
     },
     "metadata": {
      "needs_background": "light"
     },
     "output_type": "display_data"
    }
   ],
   "source": [
    "plt.bar(city_sales['City'], city_sales['Revenue'])\n",
    "\n",
    "plt.title('Sales City-wise')\n",
    "\n",
    "plt.xticks(city_sales['City'], rotation = 'vertical', size=12)\n",
    "plt.xlabel('City')\n",
    "plt.ylabel('Revenue in USD ($)')\n",
    "\n",
    "plt.show()"
   ]
  },
  {
   "cell_type": "markdown",
   "metadata": {},
   "source": [
    "##### Question 3: What time should we display advertisements to maximize likelihood of customer's buying product?"
   ]
  },
  {
   "cell_type": "code",
   "execution_count": 16,
   "metadata": {},
   "outputs": [
    {
     "data": {
      "text/plain": [
       "Hour\n",
       "0     15640\n",
       "1      9400\n",
       "2      4972\n",
       "3      3324\n",
       "4      3416\n",
       "5      5284\n",
       "6      9928\n",
       "7     16044\n",
       "8     25024\n",
       "9     34992\n",
       "10    43776\n",
       "11    49644\n",
       "12    50348\n",
       "13    48516\n",
       "14    43936\n",
       "15    40700\n",
       "16    41536\n",
       "17    43596\n",
       "18    49120\n",
       "19    51620\n",
       "20    48912\n",
       "21    43684\n",
       "22    35288\n",
       "23    25100\n",
       "Name: Count, dtype: int64"
      ]
     },
     "execution_count": 16,
     "metadata": {},
     "output_type": "execute_result"
    }
   ],
   "source": [
    "# Create a hour column\n",
    "sdata['Hour'] = pd.to_datetime(sdata['Order Date']).dt.hour\n",
    "sdata['Count'] = 1\n",
    "\n",
    "sdata.groupby(['Hour']).count()['Count']"
   ]
  },
  {
   "cell_type": "code",
   "execution_count": 17,
   "metadata": {},
   "outputs": [
    {
     "data": {
      "image/png": "[encoded data removed]",
      "text/plain": [
       "<Figure size 432x288 with 1 Axes>"
      ]
     },
     "metadata": {
      "needs_background": "light"
     },
     "output_type": "display_data"
    }
   ],
   "source": [
    "#Plotting Hourly Orders Line Graph\n",
    "keys = [pair for pair, df in sdata.groupby(['Hour'])]\n",
    "\n",
    "plt.plot(keys, sdata.groupby(['Hour']).count()['Count'])\n",
    "\n",
    "plt.title('Hourly Orders')\n",
    "\n",
    "plt.xticks(keys)\n",
    "plt.xlabel('Hour')\n",
    "\n",
    "plt.ylabel('Number of Orders')\n",
    "\n",
    "plt.grid()\n",
    "\n",
    "plt.show()\n",
    "\n",
    "# Before the Peak Hours(11am and 7pm)"
   ]
  },
  {
   "cell_type": "markdown",
   "metadata": {},
   "source": [
    "##### Question 4: What products are most often sold together?"
   ]
  },
  {
   "cell_type": "code",
   "execution_count": 18,
   "metadata": {},
   "outputs": [
    {
     "data": {
      "text/html": [
       "<div>\n",
       "<style scoped>\n",
       "    .dataframe tbody tr th:only-of-type {\n",
       "        vertical-align: middle;\n",
       "    }\n",
       "\n",
       "    .dataframe tbody tr th {\n",
       "        vertical-align: top;\n",
       "    }\n",
       "\n",
       "    .dataframe thead th {\n",
       "        text-align: right;\n",
       "    }\n",
       "</style>\n",
       "<table border=\"1\" class=\"dataframe\">\n",
       "  <thead>\n",
       "    <tr style=\"text-align: right;\">\n",
       "      <th></th>\n",
       "      <th>Order ID</th>\n",
       "      <th>2Products</th>\n",
       "    </tr>\n",
       "  </thead>\n",
       "  <tbody>\n",
       "    <tr>\n",
       "      <th>0</th>\n",
       "      <td>259358</td>\n",
       "      <td>34in Ultrawide Monitor,34in Ultrawide Monitor,...</td>\n",
       "    </tr>\n",
       "    <tr>\n",
       "      <th>1</th>\n",
       "      <td>259359</td>\n",
       "      <td>27in 4K Gaming Monitor,27in 4K Gaming Monitor,...</td>\n",
       "    </tr>\n",
       "    <tr>\n",
       "      <th>2</th>\n",
       "      <td>259360</td>\n",
       "      <td>AAA Batteries (4-pack),AAA Batteries (4-pack),...</td>\n",
       "    </tr>\n",
       "    <tr>\n",
       "      <th>3</th>\n",
       "      <td>259361</td>\n",
       "      <td>27in FHD Monitor,27in FHD Monitor,27in FHD Mon...</td>\n",
       "    </tr>\n",
       "    <tr>\n",
       "      <th>4</th>\n",
       "      <td>259362</td>\n",
       "      <td>Wired Headphones,Wired Headphones,Wired Headph...</td>\n",
       "    </tr>\n",
       "    <tr>\n",
       "      <th>...</th>\n",
       "      <td>...</td>\n",
       "      <td>...</td>\n",
       "    </tr>\n",
       "    <tr>\n",
       "      <th>661457</th>\n",
       "      <td>248146</td>\n",
       "      <td>Bose SoundSport Headphones,Bose SoundSport Hea...</td>\n",
       "    </tr>\n",
       "    <tr>\n",
       "      <th>661458</th>\n",
       "      <td>248147</td>\n",
       "      <td>AAA Batteries (4-pack),AAA Batteries (4-pack),...</td>\n",
       "    </tr>\n",
       "    <tr>\n",
       "      <th>661459</th>\n",
       "      <td>248148</td>\n",
       "      <td>AA Batteries (4-pack),AA Batteries (4-pack),AA...</td>\n",
       "    </tr>\n",
       "    <tr>\n",
       "      <th>661460</th>\n",
       "      <td>248149</td>\n",
       "      <td>USB-C Charging Cable,USB-C Charging Cable,USB-...</td>\n",
       "    </tr>\n",
       "    <tr>\n",
       "      <th>661461</th>\n",
       "      <td>248150</td>\n",
       "      <td>AA Batteries (4-pack),AA Batteries (4-pack),AA...</td>\n",
       "    </tr>\n",
       "  </tbody>\n",
       "</table>\n",
       "<p>178437 rows × 2 columns</p>\n",
       "</div>"
      ],
      "text/plain": [
       "       Order ID                                          2Products\n",
       "0        259358  34in Ultrawide Monitor,34in Ultrawide Monitor,...\n",
       "1        259359  27in 4K Gaming Monitor,27in 4K Gaming Monitor,...\n",
       "2        259360  AAA Batteries (4-pack),AAA Batteries (4-pack),...\n",
       "3        259361  27in FHD Monitor,27in FHD Monitor,27in FHD Mon...\n",
       "4        259362  Wired Headphones,Wired Headphones,Wired Headph...\n",
       "...         ...                                                ...\n",
       "661457   248146  Bose SoundSport Headphones,Bose SoundSport Hea...\n",
       "661458   248147  AAA Batteries (4-pack),AAA Batteries (4-pack),...\n",
       "661459   248148  AA Batteries (4-pack),AA Batteries (4-pack),AA...\n",
       "661460   248149  USB-C Charging Cable,USB-C Charging Cable,USB-...\n",
       "661461   248150  AA Batteries (4-pack),AA Batteries (4-pack),AA...\n",
       "\n",
       "[178437 rows x 2 columns]"
      ]
     },
     "execution_count": 18,
     "metadata": {},
     "output_type": "execute_result"
    }
   ],
   "source": [
    "# Creating a DataFrame with Products Appearing on similar orders\n",
    "ID_data = sdata[sdata.duplicated('Order ID', keep=False)]\n",
    "\n",
    "ID_data['2Products'] = ID_data.groupby(['Order ID'])['Product'].transform(lambda x: ','.join(x))\n",
    "Prodp = ID_data[['Order ID', '2Products']].drop_duplicates()\n",
    "\n",
    "Prodp"
   ]
  },
  {
   "cell_type": "code",
   "execution_count": 19,
   "metadata": {},
   "outputs": [
    {
     "name": "stdout",
     "output_type": "stream",
     "text": [
      "('USB-C Charging Cable', 'USB-C Charging Cable') 132186\n",
      "('Lightning Charging Cable', 'Lightning Charging Cable') 130812\n",
      "('AAA Batteries (4-pack)', 'AAA Batteries (4-pack)') 124614\n",
      "('AA Batteries (4-pack)', 'AA Batteries (4-pack)') 124022\n",
      "('Wired Headphones', 'Wired Headphones') 113852\n",
      "('Apple Airpods Headphones', 'Apple Airpods Headphones') 93678\n",
      "('Bose SoundSport Headphones', 'Bose SoundSport Headphones') 80382\n",
      "('27in FHD Monitor', '27in FHD Monitor') 45186\n",
      "('iPhone', 'iPhone') 41084\n",
      "('27in 4K Gaming Monitor', '27in 4K Gaming Monitor') 37460\n",
      "('34in Ultrawide Monitor', '34in Ultrawide Monitor') 37198\n",
      "('Google Phone', 'Google Phone') 33198\n",
      "('Flatscreen TV', 'Flatscreen TV') 28896\n",
      "('Macbook Pro Laptop', 'Macbook Pro Laptop') 28392\n",
      "('ThinkPad Laptop', 'ThinkPad Laptop') 24800\n",
      "('20in Monitor', '20in Monitor') 24654\n",
      "('Vareebadd Phone', 'Vareebadd Phone') 12390\n",
      "('iPhone', 'Lightning Charging Cable') 10110\n",
      "('Google Phone', 'USB-C Charging Cable') 9942\n",
      "('Lightning Charging Cable', 'iPhone') 6130\n"
     ]
    }
   ],
   "source": [
    "from itertools import combinations\n",
    "from collections import Counter\n",
    "\n",
    "count = Counter()\n",
    "\n",
    "for row in Prodp['2Products']:\n",
    "    row_list = row.split(',')\n",
    "    count.update(Counter(combinations(row_list, 2)))\n",
    "    \n",
    "for key, value in count.most_common(20):\n",
    "    print(key, value)"
   ]
  },
  {
   "cell_type": "markdown",
   "metadata": {},
   "source": [
    "##### Question 5: What product sold the most? Why do you think it sold the most?"
   ]
  },
  {
   "cell_type": "code",
   "execution_count": 20,
   "metadata": {},
   "outputs": [
    {
     "data": {
      "image/png": "[encoded data removed]",
      "text/plain": [
       "<Figure size 432x288 with 1 Axes>"
      ]
     },
     "metadata": {
      "needs_background": "light"
     },
     "output_type": "display_data"
    }
   ],
   "source": [
    "prod_sales = sdata.groupby(['Product'])\n",
    "prod_orders = prod_sales.sum()['Quantity Ordered']\n",
    "\n",
    "keys = [pair for pair, df in prod_sales]\n",
    "\n",
    "plt.bar(keys, prod_orders)\n",
    "plt.title('Product Orders')\n",
    "\n",
    "plt.xticks(keys, rotation='vertical', size=10)\n",
    "plt.xlabel('Products')\n",
    "\n",
    "plt.ylabel('Number of Orders')\n",
    "\n",
    "plt.show()"
   ]
  },
  {
   "cell_type": "code",
   "execution_count": 21,
   "metadata": {},
   "outputs": [
    {
     "name": "stderr",
     "output_type": "stream",
     "text": [
      "<ipython-input-21-81a59f021795>:16: UserWarning: Matplotlib is currently using module://ipykernel.pylab.backend_inline, which is a non-GUI backend, so cannot show the figure.\n",
      "  fig.show()\n"
     ]
    },
    {
     "data": {
      "image/png": "[encoded data removed]",
      "text/plain": [
       "<Figure size 432x288 with 2 Axes>"
      ]
     },
     "metadata": {
      "needs_background": "light"
     },
     "output_type": "display_data"
    }
   ],
   "source": [
    "prices = sdata.groupby(['Product']).mean()['Price Each']\n",
    "\n",
    "fig, ab1 = plt.subplots()\n",
    "\n",
    "ab2 = ab1.twinx()\n",
    "\n",
    "ab1.bar(keys, prod_orders, color='black')\n",
    "ab2.plot(keys, prices, color = 'red')\n",
    "\n",
    "ab1.set_xticklabels(keys, rotation='vertical', size=10)\n",
    "ab1.set_xlabel('Products')\n",
    "\n",
    "ab1.set_ylabel('Number of Orders')\n",
    "ab2.set_ylabel('Mean Price in USD ($)')\n",
    "\n",
    "fig.show()"
   ]
  },
  {
   "cell_type": "code",
   "execution_count": null,
   "metadata": {},
   "outputs": [],
   "source": []
  }
 ],
 "metadata": {
  "kernelspec": {
   "display_name": "Python 3",
   "language": "python",
   "name": "python3"
  },
  "language_info": {
   "codemirror_mode": {
    "name": "ipython",
    "version": 3
   },
   "file_extension": ".py",
   "mimetype": "text/x-python",
   "name": "python",
   "nbconvert_exporter": "python",
   "pygments_lexer": "ipython3",
   "version": "3.8.3"
  }
 },
 "nbformat": 4,
 "nbformat_minor": 4
}
