{
 "cells": [
  {
   "cell_type": "markdown",
   "metadata": {},
   "source": [
    " #### Necessary Libraries"
   ]
  },
  {
   "cell_type": "code",
   "execution_count": 1,
   "metadata": {},
   "outputs": [],
   "source": [
    "import pandas as pd\n",
    "import os"
   ]
  },
  {
   "cell_type": "markdown",
   "metadata": {},
   "source": [
    "#### Merging 12 Months of Data into One"
   ]
  },
  {
   "cell_type": "code",
   "execution_count": 2,
   "metadata": {},
   "outputs": [],
   "source": [
    "#Read the files names\n",
    "\n",
    "path = './data'\n",
    "for file in os.listdir(path):\n",
    "    if not file.startswith('.'):\n",
    "        files = os.listdir(path) \n",
    "        \n",
    "\n",
    "#Merge the file into one\n",
    "sales_data = pd.DataFrame()\n",
    "\n",
    "for file in files:\n",
    "    file_data = pd.read_csv(path + '/'+ file, sep =',')\n",
    "    sales_data = pd.concat([sales_data, file_data])\n",
    "    \n",
    "sales_data.to_csv(path+'/sales_data.csv', index=False)"
   ]
  },
  {
   "cell_type": "markdown",
   "metadata": {},
   "source": [
    "#### Read the combined data to sdata Data Frame"
   ]
  },
  {
   "cell_type": "code",
   "execution_count": 3,
   "metadata": {},
   "outputs": [
    {
     "data": {
      "text/html": [
       "<div>\n",
       "<style scoped>\n",
       "    .dataframe tbody tr th:only-of-type {\n",
       "        vertical-align: middle;\n",
       "    }\n",
       "\n",
       "    .dataframe tbody tr th {\n",
       "        vertical-align: top;\n",
       "    }\n",
       "\n",
       "    .dataframe thead th {\n",
       "        text-align: right;\n",
       "    }\n",
       "</style>\n",
       "<table border=\"1\" class=\"dataframe\">\n",
       "  <thead>\n",
       "    <tr style=\"text-align: right;\">\n",
       "      <th></th>\n",
       "      <th>Order ID</th>\n",
       "      <th>Product</th>\n",
       "      <th>Quantity Ordered</th>\n",
       "      <th>Price Each</th>\n",
       "      <th>Order Date</th>\n",
       "      <th>Purchase Address</th>\n",
       "    </tr>\n",
       "  </thead>\n",
       "  <tbody>\n",
       "    <tr>\n",
       "      <th>0</th>\n",
       "      <td>259358</td>\n",
       "      <td>34in Ultrawide Monitor</td>\n",
       "      <td>1</td>\n",
       "      <td>379.99</td>\n",
       "      <td>10/28/19 10:56</td>\n",
       "      <td>609 Cherry St, Dallas, TX 75001</td>\n",
       "    </tr>\n",
       "    <tr>\n",
       "      <th>1</th>\n",
       "      <td>259359</td>\n",
       "      <td>27in 4K Gaming Monitor</td>\n",
       "      <td>1</td>\n",
       "      <td>389.99</td>\n",
       "      <td>10/28/19 17:26</td>\n",
       "      <td>225 5th St, Los Angeles, CA 90001</td>\n",
       "    </tr>\n",
       "    <tr>\n",
       "      <th>2</th>\n",
       "      <td>259360</td>\n",
       "      <td>AAA Batteries (4-pack)</td>\n",
       "      <td>2</td>\n",
       "      <td>2.99</td>\n",
       "      <td>10/24/19 17:20</td>\n",
       "      <td>967 12th St, New York City, NY 10001</td>\n",
       "    </tr>\n",
       "    <tr>\n",
       "      <th>3</th>\n",
       "      <td>259361</td>\n",
       "      <td>27in FHD Monitor</td>\n",
       "      <td>1</td>\n",
       "      <td>149.99</td>\n",
       "      <td>10/14/19 22:26</td>\n",
       "      <td>628 Jefferson St, New York City, NY 10001</td>\n",
       "    </tr>\n",
       "    <tr>\n",
       "      <th>4</th>\n",
       "      <td>259362</td>\n",
       "      <td>Wired Headphones</td>\n",
       "      <td>1</td>\n",
       "      <td>11.99</td>\n",
       "      <td>10/07/19 16:10</td>\n",
       "      <td>534 14th St, Los Angeles, CA 90001</td>\n",
       "    </tr>\n",
       "  </tbody>\n",
       "</table>\n",
       "</div>"
      ],
      "text/plain": [
       "  Order ID                 Product Quantity Ordered Price Each  \\\n",
       "0   259358  34in Ultrawide Monitor                1     379.99   \n",
       "1   259359  27in 4K Gaming Monitor                1     389.99   \n",
       "2   259360  AAA Batteries (4-pack)                2       2.99   \n",
       "3   259361        27in FHD Monitor                1     149.99   \n",
       "4   259362        Wired Headphones                1      11.99   \n",
       "\n",
       "       Order Date                           Purchase Address  \n",
       "0  10/28/19 10:56            609 Cherry St, Dallas, TX 75001  \n",
       "1  10/28/19 17:26          225 5th St, Los Angeles, CA 90001  \n",
       "2  10/24/19 17:20       967 12th St, New York City, NY 10001  \n",
       "3  10/14/19 22:26  628 Jefferson St, New York City, NY 10001  \n",
       "4  10/07/19 16:10         534 14th St, Los Angeles, CA 90001  "
      ]
     },
     "execution_count": 3,
     "metadata": {},
     "output_type": "execute_result"
    }
   ],
   "source": [
    "sdata = pd.read_csv(path+'/sales_data.csv', sep = ',')\n",
    "sdata.head()"
   ]
  },
  {
   "cell_type": "markdown",
   "metadata": {},
   "source": [
    "#### Clean the Data"
   ]
  },
  {
   "cell_type": "markdown",
   "metadata": {},
   "source": [
    "##### Task 1: Drop Rows of NAN"
   ]
  },
  {
   "cell_type": "code",
   "execution_count": 4,
   "metadata": {},
   "outputs": [
    {
     "data": {
      "text/plain": [
       "(1090, 6)"
      ]
     },
     "metadata": {},
     "output_type": "display_data"
    }
   ],
   "source": [
    "# Finding the NAN rows\n",
    "Nan_rows = sdata[sdata.isna().any(axis = 1 )]\n",
    "display(Nan_rows.shape)\n",
    "\n",
    "#Dropping the NAN rows\n",
    "sdata.dropna(how='all', axis=0, inplace = True)"
   ]
  },
  {
   "cell_type": "markdown",
   "metadata": {},
   "source": [
    "##### Task 2: Find 'Or' and Delete it"
   ]
  },
  {
   "cell_type": "code",
   "execution_count": 5,
   "metadata": {},
   "outputs": [],
   "source": [
    "or_rows = sdata[sdata['Order Date'].str[0:2] == 'Or']\n",
    "\n",
    "sdata = sdata[sdata['Order Date'].str[0:2] != 'Or']"
   ]
  },
  {
   "cell_type": "markdown",
   "metadata": {},
   "source": [
    "##### Cast Columns to Correct Type"
   ]
  },
  {
   "cell_type": "code",
   "execution_count": 6,
   "metadata": {},
   "outputs": [],
   "source": [
    "sdata['Quantity Ordered'] = pd.to_numeric(sdata['Quantity Ordered'])\n",
    "sdata['Price Each'] = pd.to_numeric(sdata['Price Each'])"
   ]
  },
  {
   "cell_type": "markdown",
   "metadata": {},
   "source": [
    " #### Add Additional Necessary Columns"
   ]
  },
  {
   "cell_type": "markdown",
   "metadata": {},
   "source": [
    "###### Task 1: Add Month Column"
   ]
  },
  {
   "cell_type": "code",
   "execution_count": 7,
   "metadata": {},
   "outputs": [
    {
     "data": {
      "text/html": [
       "<div>\n",
       "<style scoped>\n",
       "    .dataframe tbody tr th:only-of-type {\n",
       "        vertical-align: middle;\n",
       "    }\n",
       "\n",
       "    .dataframe tbody tr th {\n",
       "        vertical-align: top;\n",
       "    }\n",
       "\n",
       "    .dataframe thead th {\n",
       "        text-align: right;\n",
       "    }\n",
       "</style>\n",
       "<table border=\"1\" class=\"dataframe\">\n",
       "  <thead>\n",
       "    <tr style=\"text-align: right;\">\n",
       "      <th></th>\n",
       "      <th>Order ID</th>\n",
       "      <th>Product</th>\n",
       "      <th>Quantity Ordered</th>\n",
       "      <th>Price Each</th>\n",
       "      <th>Order Date</th>\n",
       "      <th>Purchase Address</th>\n",
       "      <th>Month</th>\n",
       "    </tr>\n",
       "  </thead>\n",
       "  <tbody>\n",
       "    <tr>\n",
       "      <th>0</th>\n",
       "      <td>259358</td>\n",
       "      <td>34in Ultrawide Monitor</td>\n",
       "      <td>1</td>\n",
       "      <td>379.99</td>\n",
       "      <td>10/28/19 10:56</td>\n",
       "      <td>609 Cherry St, Dallas, TX 75001</td>\n",
       "      <td>10</td>\n",
       "    </tr>\n",
       "    <tr>\n",
       "      <th>1</th>\n",
       "      <td>259359</td>\n",
       "      <td>27in 4K Gaming Monitor</td>\n",
       "      <td>1</td>\n",
       "      <td>389.99</td>\n",
       "      <td>10/28/19 17:26</td>\n",
       "      <td>225 5th St, Los Angeles, CA 90001</td>\n",
       "      <td>10</td>\n",
       "    </tr>\n",
       "    <tr>\n",
       "      <th>2</th>\n",
       "      <td>259360</td>\n",
       "      <td>AAA Batteries (4-pack)</td>\n",
       "      <td>2</td>\n",
       "      <td>2.99</td>\n",
       "      <td>10/24/19 17:20</td>\n",
       "      <td>967 12th St, New York City, NY 10001</td>\n",
       "      <td>10</td>\n",
       "    </tr>\n",
       "    <tr>\n",
       "      <th>3</th>\n",
       "      <td>259361</td>\n",
       "      <td>27in FHD Monitor</td>\n",
       "      <td>1</td>\n",
       "      <td>149.99</td>\n",
       "      <td>10/14/19 22:26</td>\n",
       "      <td>628 Jefferson St, New York City, NY 10001</td>\n",
       "      <td>10</td>\n",
       "    </tr>\n",
       "    <tr>\n",
       "      <th>4</th>\n",
       "      <td>259362</td>\n",
       "      <td>Wired Headphones</td>\n",
       "      <td>1</td>\n",
       "      <td>11.99</td>\n",
       "      <td>10/07/19 16:10</td>\n",
       "      <td>534 14th St, Los Angeles, CA 90001</td>\n",
       "      <td>10</td>\n",
       "    </tr>\n",
       "  </tbody>\n",
       "</table>\n",
       "</div>"
      ],
      "text/plain": [
       "  Order ID                 Product  Quantity Ordered  Price Each  \\\n",
       "0   259358  34in Ultrawide Monitor                 1      379.99   \n",
       "1   259359  27in 4K Gaming Monitor                 1      389.99   \n",
       "2   259360  AAA Batteries (4-pack)                 2        2.99   \n",
       "3   259361        27in FHD Monitor                 1      149.99   \n",
       "4   259362        Wired Headphones                 1       11.99   \n",
       "\n",
       "       Order Date                           Purchase Address  Month  \n",
       "0  10/28/19 10:56            609 Cherry St, Dallas, TX 75001     10  \n",
       "1  10/28/19 17:26          225 5th St, Los Angeles, CA 90001     10  \n",
       "2  10/24/19 17:20       967 12th St, New York City, NY 10001     10  \n",
       "3  10/14/19 22:26  628 Jefferson St, New York City, NY 10001     10  \n",
       "4  10/07/19 16:10         534 14th St, Los Angeles, CA 90001     10  "
      ]
     },
     "execution_count": 7,
     "metadata": {},
     "output_type": "execute_result"
    }
   ],
   "source": [
    "sdata['Month'] = sdata['Order Date'].str[0:2]\n",
    "sdata['Month'] = sdata['Month'].astype(int)\n",
    "\n",
    "sdata.head()"
   ]
  },
  {
   "cell_type": "markdown",
   "metadata": {},
   "source": [
    "###### Alternative"
   ]
  },
  {
   "cell_type": "code",
   "execution_count": 8,
   "metadata": {},
   "outputs": [
    {
     "data": {
      "text/html": [
       "<div>\n",
       "<style scoped>\n",
       "    .dataframe tbody tr th:only-of-type {\n",
       "        vertical-align: middle;\n",
       "    }\n",
       "\n",
       "    .dataframe tbody tr th {\n",
       "        vertical-align: top;\n",
       "    }\n",
       "\n",
       "    .dataframe thead th {\n",
       "        text-align: right;\n",
       "    }\n",
       "</style>\n",
       "<table border=\"1\" class=\"dataframe\">\n",
       "  <thead>\n",
       "    <tr style=\"text-align: right;\">\n",
       "      <th></th>\n",
       "      <th>Order ID</th>\n",
       "      <th>Product</th>\n",
       "      <th>Quantity Ordered</th>\n",
       "      <th>Price Each</th>\n",
       "      <th>Order Date</th>\n",
       "      <th>Purchase Address</th>\n",
       "      <th>Month</th>\n",
       "      <th>Month 2</th>\n",
       "    </tr>\n",
       "  </thead>\n",
       "  <tbody>\n",
       "    <tr>\n",
       "      <th>0</th>\n",
       "      <td>259358</td>\n",
       "      <td>34in Ultrawide Monitor</td>\n",
       "      <td>1</td>\n",
       "      <td>379.99</td>\n",
       "      <td>10/28/19 10:56</td>\n",
       "      <td>609 Cherry St, Dallas, TX 75001</td>\n",
       "      <td>10</td>\n",
       "      <td>10</td>\n",
       "    </tr>\n",
       "    <tr>\n",
       "      <th>1</th>\n",
       "      <td>259359</td>\n",
       "      <td>27in 4K Gaming Monitor</td>\n",
       "      <td>1</td>\n",
       "      <td>389.99</td>\n",
       "      <td>10/28/19 17:26</td>\n",
       "      <td>225 5th St, Los Angeles, CA 90001</td>\n",
       "      <td>10</td>\n",
       "      <td>10</td>\n",
       "    </tr>\n",
       "    <tr>\n",
       "      <th>2</th>\n",
       "      <td>259360</td>\n",
       "      <td>AAA Batteries (4-pack)</td>\n",
       "      <td>2</td>\n",
       "      <td>2.99</td>\n",
       "      <td>10/24/19 17:20</td>\n",
       "      <td>967 12th St, New York City, NY 10001</td>\n",
       "      <td>10</td>\n",
       "      <td>10</td>\n",
       "    </tr>\n",
       "    <tr>\n",
       "      <th>3</th>\n",
       "      <td>259361</td>\n",
       "      <td>27in FHD Monitor</td>\n",
       "      <td>1</td>\n",
       "      <td>149.99</td>\n",
       "      <td>10/14/19 22:26</td>\n",
       "      <td>628 Jefferson St, New York City, NY 10001</td>\n",
       "      <td>10</td>\n",
       "      <td>10</td>\n",
       "    </tr>\n",
       "    <tr>\n",
       "      <th>4</th>\n",
       "      <td>259362</td>\n",
       "      <td>Wired Headphones</td>\n",
       "      <td>1</td>\n",
       "      <td>11.99</td>\n",
       "      <td>10/07/19 16:10</td>\n",
       "      <td>534 14th St, Los Angeles, CA 90001</td>\n",
       "      <td>10</td>\n",
       "      <td>10</td>\n",
       "    </tr>\n",
       "  </tbody>\n",
       "</table>\n",
       "</div>"
      ],
      "text/plain": [
       "  Order ID                 Product  Quantity Ordered  Price Each  \\\n",
       "0   259358  34in Ultrawide Monitor                 1      379.99   \n",
       "1   259359  27in 4K Gaming Monitor                 1      389.99   \n",
       "2   259360  AAA Batteries (4-pack)                 2        2.99   \n",
       "3   259361        27in FHD Monitor                 1      149.99   \n",
       "4   259362        Wired Headphones                 1       11.99   \n",
       "\n",
       "       Order Date                           Purchase Address  Month  Month 2  \n",
       "0  10/28/19 10:56            609 Cherry St, Dallas, TX 75001     10       10  \n",
       "1  10/28/19 17:26          225 5th St, Los Angeles, CA 90001     10       10  \n",
       "2  10/24/19 17:20       967 12th St, New York City, NY 10001     10       10  \n",
       "3  10/14/19 22:26  628 Jefferson St, New York City, NY 10001     10       10  \n",
       "4  10/07/19 16:10         534 14th St, Los Angeles, CA 90001     10       10  "
      ]
     },
     "execution_count": 8,
     "metadata": {},
     "output_type": "execute_result"
    }
   ],
   "source": [
    "sdata['Month 2'] = pd.to_datetime(sdata['Order Date']).dt.month\n",
    "sdata.head()"
   ]
  },
  {
   "cell_type": "markdown",
   "metadata": {},
   "source": [
    "###### Add a Sales Column"
   ]
  },
  {
   "cell_type": "code",
   "execution_count": 9,
   "metadata": {},
   "outputs": [],
   "source": [
    "sdata['Revenue'] = sdata['Quantity Ordered'].astype('int') * sdata['Price Each'].astype('float')"
   ]
  },
  {
   "cell_type": "markdown",
   "metadata": {},
   "source": [
    "###### Add a City Column"
   ]
  },
  {
   "cell_type": "code",
   "execution_count": 10,
   "metadata": {},
   "outputs": [],
   "source": [
    "def get_city(address):\n",
    "    return address.split(',')[1].strip(' ')\n",
    "\n",
    "def get_state(address):\n",
    "    return address.split(',')[2].split(' ')[1]\n",
    "\n",
    "sdata['City'] = sdata['Purchase Address'].apply(lambda x: f\"{get_city(x)} ({get_state(x)})\")"
   ]
  },
  {
   "cell_type": "markdown",
   "metadata": {},
   "source": [
    "##### Question 1: What was the best month for sales?How much was earned in that month?"
   ]
  },
  {
   "cell_type": "code",
   "execution_count": 11,
   "metadata": {},
   "outputs": [
    {
     "data": {
      "text/html": [
       "<div>\n",
       "<style scoped>\n",
       "    .dataframe tbody tr th:only-of-type {\n",
       "        vertical-align: middle;\n",
       "    }\n",
       "\n",
       "    .dataframe tbody tr th {\n",
       "        vertical-align: top;\n",
       "    }\n",
       "\n",
       "    .dataframe thead th {\n",
       "        text-align: right;\n",
       "    }\n",
       "</style>\n",
       "<table border=\"1\" class=\"dataframe\">\n",
       "  <thead>\n",
       "    <tr style=\"text-align: right;\">\n",
       "      <th></th>\n",
       "      <th>Month</th>\n",
       "      <th>Quantity Ordered</th>\n",
       "      <th>Price Each</th>\n",
       "      <th>Revenue</th>\n",
       "    </tr>\n",
       "  </thead>\n",
       "  <tbody>\n",
       "    <tr>\n",
       "      <th>11</th>\n",
       "      <td>12</td>\n",
       "      <td>56228</td>\n",
       "      <td>9.176831e+06</td>\n",
       "      <td>9.226887e+06</td>\n",
       "    </tr>\n",
       "    <tr>\n",
       "      <th>9</th>\n",
       "      <td>10</td>\n",
       "      <td>45406</td>\n",
       "      <td>7.431110e+06</td>\n",
       "      <td>7.473454e+06</td>\n",
       "    </tr>\n",
       "    <tr>\n",
       "      <th>3</th>\n",
       "      <td>4</td>\n",
       "      <td>41116</td>\n",
       "      <td>6.735342e+06</td>\n",
       "      <td>6.781340e+06</td>\n",
       "    </tr>\n",
       "    <tr>\n",
       "      <th>10</th>\n",
       "      <td>11</td>\n",
       "      <td>39596</td>\n",
       "      <td>6.361201e+06</td>\n",
       "      <td>6.399206e+06</td>\n",
       "    </tr>\n",
       "    <tr>\n",
       "      <th>4</th>\n",
       "      <td>5</td>\n",
       "      <td>37334</td>\n",
       "      <td>6.270250e+06</td>\n",
       "      <td>6.305214e+06</td>\n",
       "    </tr>\n",
       "    <tr>\n",
       "      <th>2</th>\n",
       "      <td>3</td>\n",
       "      <td>34010</td>\n",
       "      <td>5.582416e+06</td>\n",
       "      <td>5.614201e+06</td>\n",
       "    </tr>\n",
       "    <tr>\n",
       "      <th>6</th>\n",
       "      <td>7</td>\n",
       "      <td>32144</td>\n",
       "      <td>5.265079e+06</td>\n",
       "      <td>5.295552e+06</td>\n",
       "    </tr>\n",
       "    <tr>\n",
       "      <th>5</th>\n",
       "      <td>6</td>\n",
       "      <td>30506</td>\n",
       "      <td>5.124051e+06</td>\n",
       "      <td>5.155605e+06</td>\n",
       "    </tr>\n",
       "    <tr>\n",
       "      <th>7</th>\n",
       "      <td>8</td>\n",
       "      <td>26896</td>\n",
       "      <td>4.460691e+06</td>\n",
       "      <td>4.488936e+06</td>\n",
       "    </tr>\n",
       "    <tr>\n",
       "      <th>1</th>\n",
       "      <td>2</td>\n",
       "      <td>26898</td>\n",
       "      <td>4.377769e+06</td>\n",
       "      <td>4.404045e+06</td>\n",
       "    </tr>\n",
       "    <tr>\n",
       "      <th>8</th>\n",
       "      <td>9</td>\n",
       "      <td>26218</td>\n",
       "      <td>4.169984e+06</td>\n",
       "      <td>4.195120e+06</td>\n",
       "    </tr>\n",
       "    <tr>\n",
       "      <th>0</th>\n",
       "      <td>1</td>\n",
       "      <td>21806</td>\n",
       "      <td>3.623537e+06</td>\n",
       "      <td>3.644513e+06</td>\n",
       "    </tr>\n",
       "  </tbody>\n",
       "</table>\n",
       "</div>"
      ],
      "text/plain": [
       "    Month  Quantity Ordered    Price Each       Revenue\n",
       "11     12             56228  9.176831e+06  9.226887e+06\n",
       "9      10             45406  7.431110e+06  7.473454e+06\n",
       "3       4             41116  6.735342e+06  6.781340e+06\n",
       "10     11             39596  6.361201e+06  6.399206e+06\n",
       "4       5             37334  6.270250e+06  6.305214e+06\n",
       "2       3             34010  5.582416e+06  5.614201e+06\n",
       "6       7             32144  5.265079e+06  5.295552e+06\n",
       "5       6             30506  5.124051e+06  5.155605e+06\n",
       "7       8             26896  4.460691e+06  4.488936e+06\n",
       "1       2             26898  4.377769e+06  4.404045e+06\n",
       "8       9             26218  4.169984e+06  4.195120e+06\n",
       "0       1             21806  3.623537e+06  3.644513e+06"
      ]
     },
     "execution_count": 11,
     "metadata": {},
     "output_type": "execute_result"
    }
   ],
   "source": [
    "month_sales = sdata.groupby(['Month']).sum()\n",
    "month_sales.drop(['Month 2'], axis = 1, inplace=True)\n",
    "month_sales.reset_index(inplace=True)\n",
    "\n",
    "#Sorting Revenue from highest to lowest\n",
    "month_sales.sort_values(by=['Revenue'], axis=0, ascending=False)\n"
   ]
  },
  {
   "cell_type": "code",
   "execution_count": 12,
   "metadata": {},
   "outputs": [
    {
     "data": {
      "image/png": "[encoded data removed]",
      "text/plain": [
       "<Figure size 432x288 with 1 Axes>"
      ]
     },
     "metadata": {
      "needs_background": "light"
     },
     "output_type": "display_data"
    }
   ],
   "source": [
    "# Importing the pyplot namespace\n",
    "import matplotlib.pyplot as plt  \n",
    "\n",
    "plt.bar(month_sales['Month'], month_sales['Revenue'])\n",
    "\n",
    "plt.title('Monthly Sales')\n",
    "\n",
    "plt.xticks(month_sales['Month'])\n",
    "plt.xlabel('Month')\n",
    "\n",
    "plt.ylabel('Sales in USD ($)')\n",
    "\n",
    "# Removes Scientific notation\n",
    "plt.ticklabel_format(style='plain')\n",
    "\n",
    "plt.show()"
   ]
  },
  {
   "cell_type": "markdown",
   "metadata": {},
   "source": [
    "##### Question 2:  What city sold the most product?"
   ]
  },
  {
   "cell_type": "code",
   "execution_count": 13,
   "metadata": {},
   "outputs": [
    {
     "data": {
      "text/html": [
       "<div>\n",
       "<style scoped>\n",
       "    .dataframe tbody tr th:only-of-type {\n",
       "        vertical-align: middle;\n",
       "    }\n",
       "\n",
       "    .dataframe tbody tr th {\n",
       "        vertical-align: top;\n",
       "    }\n",
       "\n",
       "    .dataframe thead th {\n",
       "        text-align: right;\n",
       "    }\n",
       "</style>\n",
       "<table border=\"1\" class=\"dataframe\">\n",
       "  <thead>\n",
       "    <tr style=\"text-align: right;\">\n",
       "      <th></th>\n",
       "      <th>City</th>\n",
       "      <th>Quantity Ordered</th>\n",
       "      <th>Price Each</th>\n",
       "      <th>Month</th>\n",
       "      <th>Revenue</th>\n",
       "    </tr>\n",
       "  </thead>\n",
       "  <tbody>\n",
       "    <tr>\n",
       "      <th>8</th>\n",
       "      <td>San Francisco (CA)</td>\n",
       "      <td>100478</td>\n",
       "      <td>1.642292e+07</td>\n",
       "      <td>631040</td>\n",
       "      <td>1.652441e+07</td>\n",
       "    </tr>\n",
       "    <tr>\n",
       "      <th>4</th>\n",
       "      <td>Los Angeles (CA)</td>\n",
       "      <td>66578</td>\n",
       "      <td>1.084287e+07</td>\n",
       "      <td>416650</td>\n",
       "      <td>1.090514e+07</td>\n",
       "    </tr>\n",
       "    <tr>\n",
       "      <th>5</th>\n",
       "      <td>New York City (NY)</td>\n",
       "      <td>55864</td>\n",
       "      <td>9.270742e+06</td>\n",
       "      <td>351482</td>\n",
       "      <td>9.328635e+06</td>\n",
       "    </tr>\n",
       "    <tr>\n",
       "      <th>2</th>\n",
       "      <td>Boston (MA)</td>\n",
       "      <td>45056</td>\n",
       "      <td>7.274820e+06</td>\n",
       "      <td>282224</td>\n",
       "      <td>7.323284e+06</td>\n",
       "    </tr>\n",
       "    <tr>\n",
       "      <th>0</th>\n",
       "      <td>Atlanta (GA)</td>\n",
       "      <td>33204</td>\n",
       "      <td>5.559816e+06</td>\n",
       "      <td>209588</td>\n",
       "      <td>5.590997e+06</td>\n",
       "    </tr>\n",
       "    <tr>\n",
       "      <th>3</th>\n",
       "      <td>Dallas (TX)</td>\n",
       "      <td>33460</td>\n",
       "      <td>5.505256e+06</td>\n",
       "      <td>209240</td>\n",
       "      <td>5.535951e+06</td>\n",
       "    </tr>\n",
       "    <tr>\n",
       "      <th>9</th>\n",
       "      <td>Seattle (WA)</td>\n",
       "      <td>33106</td>\n",
       "      <td>5.466592e+06</td>\n",
       "      <td>209882</td>\n",
       "      <td>5.495511e+06</td>\n",
       "    </tr>\n",
       "    <tr>\n",
       "      <th>7</th>\n",
       "      <td>Portland (OR)</td>\n",
       "      <td>22606</td>\n",
       "      <td>3.721116e+06</td>\n",
       "      <td>141242</td>\n",
       "      <td>3.741465e+06</td>\n",
       "    </tr>\n",
       "    <tr>\n",
       "      <th>1</th>\n",
       "      <td>Austin (TX)</td>\n",
       "      <td>22306</td>\n",
       "      <td>3.619747e+06</td>\n",
       "      <td>139658</td>\n",
       "      <td>3.639164e+06</td>\n",
       "    </tr>\n",
       "    <tr>\n",
       "      <th>6</th>\n",
       "      <td>Portland (ME)</td>\n",
       "      <td>5500</td>\n",
       "      <td>8.943785e+05</td>\n",
       "      <td>34288</td>\n",
       "      <td>8.995165e+05</td>\n",
       "    </tr>\n",
       "  </tbody>\n",
       "</table>\n",
       "</div>"
      ],
      "text/plain": [
       "                 City  Quantity Ordered    Price Each   Month       Revenue\n",
       "8  San Francisco (CA)            100478  1.642292e+07  631040  1.652441e+07\n",
       "4    Los Angeles (CA)             66578  1.084287e+07  416650  1.090514e+07\n",
       "5  New York City (NY)             55864  9.270742e+06  351482  9.328635e+06\n",
       "2         Boston (MA)             45056  7.274820e+06  282224  7.323284e+06\n",
       "0        Atlanta (GA)             33204  5.559816e+06  209588  5.590997e+06\n",
       "3         Dallas (TX)             33460  5.505256e+06  209240  5.535951e+06\n",
       "9        Seattle (WA)             33106  5.466592e+06  209882  5.495511e+06\n",
       "7       Portland (OR)             22606  3.721116e+06  141242  3.741465e+06\n",
       "1         Austin (TX)             22306  3.619747e+06  139658  3.639164e+06\n",
       "6       Portland (ME)              5500  8.943785e+05   34288  8.995165e+05"
      ]
     },
     "metadata": {},
     "output_type": "display_data"
    }
   ],
   "source": [
    "city_sales = sdata.groupby(['City']).sum()\n",
    "\n",
    "city_sales.reset_index(inplace=True)\n",
    "city_sales.drop(['Month 2'], axis = 1, inplace=True)\n",
    "\n",
    "display(city_sales.sort_values(by=['Revenue'], ascending= False))"
   ]
  },
  {
   "cell_type": "code",
   "execution_count": 14,
   "metadata": {},
   "outputs": [
    {
     "data": {
      "image/png": "[encoded data removed]",
      "text/plain": [
       "<Figure size 432x288 with 1 Axes>"
      ]
     },
     "metadata": {
      "needs_background": "light"
     },
     "output_type": "display_data"
    }
   ],
   "source": [
    "plt.bar(city_sales['City'], city_sales['Revenue'])\n",
    "\n",
    "plt.title('Sales City-wise')\n",
    "\n",
    "plt.xticks(city_sales['City'], rotation = 'vertical', size=12)\n",
    "plt.xlabel('City')\n",
    "plt.ylabel('Revenue in USD ($)')\n",
    "\n",
    "plt.show()"
   ]
  },
  {
   "cell_type": "markdown",
   "metadata": {},
   "source": [
    "##### Question 3: What time should we display advertisements to maximize likelihood of customer's buying product?"
   ]
  },
  {
   "cell_type": "code",
   "execution_count": 15,
   "metadata": {},
   "outputs": [
    {
     "data": {
      "text/plain": [
       "Hour\n",
       "0      7820\n",
       "1      4700\n",
       "2      2486\n",
       "3      1662\n",
       "4      1708\n",
       "5      2642\n",
       "6      4964\n",
       "7      8022\n",
       "8     12512\n",
       "9     17496\n",
       "10    21888\n",
       "11    24822\n",
       "12    25174\n",
       "13    24258\n",
       "14    21968\n",
       "15    20350\n",
       "16    20768\n",
       "17    21798\n",
       "18    24560\n",
       "19    25810\n",
       "20    24456\n",
       "21    21842\n",
       "22    17644\n",
       "23    12550\n",
       "Name: Count, dtype: int64"
      ]
     },
     "execution_count": 15,
     "metadata": {},
     "output_type": "execute_result"
    }
   ],
   "source": [
    "# Create a hour column\n",
    "sdata['Hour'] = pd.to_datetime(sdata['Order Date']).dt.hour\n",
    "sdata['Count'] = 1\n",
    "\n",
    "sdata.groupby(['Hour']).count()['Count']"
   ]
  },
  {
   "cell_type": "code",
   "execution_count": 16,
   "metadata": {},
   "outputs": [
    {
     "data": {
      "image/png": "[encoded data removed]",
      "text/plain": [
       "<Figure size 432x288 with 1 Axes>"
      ]
     },
     "metadata": {
      "needs_background": "light"
     },
     "output_type": "display_data"
    }
   ],
   "source": [
    "#Plotting Hourly Orders Line Graph\n",
    "keys = [pair for pair, df in sdata.groupby(['Hour'])]\n",
    "\n",
    "plt.plot(keys, sdata.groupby(['Hour']).count()['Count'])\n",
    "\n",
    "plt.title('Hourly Orders')\n",
    "\n",
    "plt.xticks(keys)\n",
    "plt.xlabel('Hour')\n",
    "\n",
    "plt.ylabel('Number of Orders')\n",
    "\n",
    "plt.grid()\n",
    "\n",
    "plt.show()\n",
    "\n",
    "# Before the Peak Hours(11am and 7pm)"
   ]
  },
  {
   "cell_type": "markdown",
   "metadata": {},
   "source": [
    "##### Question 4: What products are most often sold together?"
   ]
  },
  {
   "cell_type": "code",
   "execution_count": null,
   "metadata": {},
   "outputs": [],
   "source": [
    "# Creating a DataFrame with Products Appearing on similar orders\n",
    "ID_data = sdata[sdata.duplicated('Order ID', keep=False)]\n",
    "\n",
    "ID_data['2Products'] = ID_data.groupby(['Order ID'])['Product'].transform(lambda x: ','.join(x))\n",
    "Prodp = ID_data[['Order ID', '2Products']].drop_duplicates()\n",
    "\n",
    "Prodp"
   ]
  },
  {
   "cell_type": "code",
   "execution_count": 263,
   "metadata": {},
   "outputs": [
    {
     "name": "stdout",
     "output_type": "stream",
     "text": [
      "('iPhone', 'Lightning Charging Cable') 1005\n",
      "('Google Phone', 'USB-C Charging Cable') 987\n",
      "('iPhone', 'Wired Headphones') 447\n",
      "('Google Phone', 'Wired Headphones') 414\n",
      "('Vareebadd Phone', 'USB-C Charging Cable') 361\n",
      "('iPhone', 'Apple Airpods Headphones') 360\n",
      "('Google Phone', 'Bose SoundSport Headphones') 220\n",
      "('USB-C Charging Cable', 'Wired Headphones') 160\n",
      "('Vareebadd Phone', 'Wired Headphones') 143\n",
      "('Lightning Charging Cable', 'Wired Headphones') 92\n",
      "('Lightning Charging Cable', 'Apple Airpods Headphones') 81\n",
      "('Vareebadd Phone', 'Bose SoundSport Headphones') 80\n",
      "('USB-C Charging Cable', 'Bose SoundSport Headphones') 77\n",
      "('Apple Airpods Headphones', 'Wired Headphones') 69\n",
      "('Lightning Charging Cable', 'USB-C Charging Cable') 58\n",
      "('Lightning Charging Cable', 'AA Batteries (4-pack)') 55\n",
      "('Lightning Charging Cable', 'Lightning Charging Cable') 54\n",
      "('Bose SoundSport Headphones', 'Wired Headphones') 53\n",
      "('AA Batteries (4-pack)', 'Lightning Charging Cable') 51\n",
      "('AAA Batteries (4-pack)', 'USB-C Charging Cable') 50\n"
     ]
    }
   ],
   "source": [
    "from itertools import combinations\n",
    "from collections import Counter\n",
    "\n",
    "count = Counter()\n",
    "\n",
    "for row in Prodp['2Products']:\n",
    "    row_list = row.split(',')\n",
    "    count.update(Counter(combinations(row_list, 2)))\n",
    "    \n",
    "for key, value in count.most_common(20):\n",
    "    print(key, value)"
   ]
  },
  {
   "cell_type": "markdown",
   "metadata": {},
   "source": [
    "##### Question 5: What product sold the most? Why do you think it sold the most?"
   ]
  },
  {
   "cell_type": "code",
   "execution_count": 277,
   "metadata": {},
   "outputs": [
    {
     "data": {
      "image/png": "[encoded data removed]",
      "text/plain": [
       "<Figure size 432x288 with 1 Axes>"
      ]
     },
     "metadata": {
      "needs_background": "light"
     },
     "output_type": "display_data"
    }
   ],
   "source": [
    "prod_sales = sdata.groupby(['Product'])\n",
    "prod_orders = prod_sales.sum()['Quantity Ordered']\n",
    "\n",
    "keys = [pair for pair, df in prod_sales]\n",
    "\n",
    "plt.bar(keys, prod_orders)\n",
    "plt.title('Product Orders')\n",
    "\n",
    "plt.xticks(keys, rotation='vertical', size=10)\n",
    "plt.xlabel('Products')\n",
    "\n",
    "plt.ylabel('Number of Orders')\n",
    "\n",
    "plt.show()"
   ]
  },
  {
   "cell_type": "code",
   "execution_count": 2,
   "metadata": {},
   "outputs": [
    {
     "ename": "NameError",
     "evalue": "name 'sdata' is not defined",
     "output_type": "error",
     "traceback": [
      "\u001b[0;31m---------------------------------------------------------------------------\u001b[0m",
      "\u001b[0;31mNameError\u001b[0m                                 Traceback (most recent call last)",
      "\u001b[0;32m<ipython-input-2-81a59f021795>\u001b[0m in \u001b[0;36m<module>\u001b[0;34m\u001b[0m\n\u001b[0;32m----> 1\u001b[0;31m \u001b[0mprices\u001b[0m \u001b[0;34m=\u001b[0m \u001b[0msdata\u001b[0m\u001b[0;34m.\u001b[0m\u001b[0mgroupby\u001b[0m\u001b[0;34m(\u001b[0m\u001b[0;34m[\u001b[0m\u001b[0;34m'Product'\u001b[0m\u001b[0;34m]\u001b[0m\u001b[0;34m)\u001b[0m\u001b[0;34m.\u001b[0m\u001b[0mmean\u001b[0m\u001b[0;34m(\u001b[0m\u001b[0;34m)\u001b[0m\u001b[0;34m[\u001b[0m\u001b[0;34m'Price Each'\u001b[0m\u001b[0;34m]\u001b[0m\u001b[0;34m\u001b[0m\u001b[0;34m\u001b[0m\u001b[0m\n\u001b[0m\u001b[1;32m      2\u001b[0m \u001b[0;34m\u001b[0m\u001b[0m\n\u001b[1;32m      3\u001b[0m \u001b[0mfig\u001b[0m\u001b[0;34m,\u001b[0m \u001b[0mab1\u001b[0m \u001b[0;34m=\u001b[0m \u001b[0mplt\u001b[0m\u001b[0;34m.\u001b[0m\u001b[0msubplots\u001b[0m\u001b[0;34m(\u001b[0m\u001b[0;34m)\u001b[0m\u001b[0;34m\u001b[0m\u001b[0;34m\u001b[0m\u001b[0m\n\u001b[1;32m      4\u001b[0m \u001b[0;34m\u001b[0m\u001b[0m\n\u001b[1;32m      5\u001b[0m \u001b[0mab2\u001b[0m \u001b[0;34m=\u001b[0m \u001b[0mab1\u001b[0m\u001b[0;34m.\u001b[0m\u001b[0mtwinx\u001b[0m\u001b[0;34m(\u001b[0m\u001b[0;34m)\u001b[0m\u001b[0;34m\u001b[0m\u001b[0;34m\u001b[0m\u001b[0m\n",
      "\u001b[0;31mNameError\u001b[0m: name 'sdata' is not defined"
     ]
    }
   ],
   "source": [
    "prices = sdata.groupby(['Product']).mean()['Price Each']\n",
    "\n",
    "fig, ab1 = plt.subplots()\n",
    "\n",
    "ab2 = ab1.twinx()\n",
    "\n",
    "ab1.bar(keys, prod_orders, color='black')\n",
    "ab2.plot(keys, prices, color = 'red')\n",
    "\n",
    "ab1.set_xticklabels(keys, rotation='vertical', size=10)\n",
    "ab1.set_xlabel('Products')\n",
    "\n",
    "ab1.set_ylabel('Number of Orders')\n",
    "ab2.set_ylabel('Mean Price in USD ($)')\n",
    "\n",
    "fig.show()"
   ]
  },
  {
   "cell_type": "code",
   "execution_count": null,
   "metadata": {},
   "outputs": [],
   "source": []
  }
 ],
 "metadata": {
  "kernelspec": {
   "display_name": "Python 3",
   "language": "python",
   "name": "python3"
  },
  "language_info": {
   "codemirror_mode": {
    "name": "ipython",
    "version": 3
   },
   "file_extension": ".py",
   "mimetype": "text/x-python",
   "name": "python",
   "nbconvert_exporter": "python",
   "pygments_lexer": "ipython3",
   "version": "3.8.3"
  }
 },
 "nbformat": 4,
 "nbformat_minor": 4
}
